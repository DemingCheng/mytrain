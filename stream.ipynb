{
 "cells": [
  {
   "cell_type": "code",
   "execution_count": 7,
   "metadata": {},
   "outputs": [
    {
     "name": "stderr",
     "output_type": "stream",
     "text": [
      "Setting `pad_token_id` to `eos_token_id`:50256 for open-end generation.\n"
     ]
    },
    {
     "name": "stdout",
     "output_type": "stream",
     "text": [
      "I've been curious about starting a blog to share my life experiences. I've started a personal blog called \"My Blogging Blog.\" I'm excited to help you create a simple, easy-to-use blog\n"
     ]
    }
   ],
   "source": [
    "from transformers import AutoModelForCausalLM, AutoTokenizer, TextStreamer\n",
    "\n",
    "tokenizer = AutoTokenizer.from_pretrained(\"./model/mygpt2\")\n",
    "model = AutoModelForCausalLM.from_pretrained(\"./model/mygpt2\")\n",
    "text = \"I've been curious about starting a blog to share my life experiences\"\n",
    "inputs = tokenizer(text, return_tensors=\"pt\")\n",
    "# 或\n",
    "# inputs = tokenizer([text], return_tensors=\"pt\")\n",
    "# 或\n",
    "# texts = [\"prompt1, prompt2\"]\n",
    "# inputs = tokenizer(text, return_tensors=\"pt\")\n",
    "\n",
    "streamer = TextStreamer(tokenizer)\n",
    "\n",
    "# Despite returning the usual output, the streamer will also print the generated text to stdout.\n",
    "output = model.generate(**inputs, streamer=streamer, max_new_tokens=30, no_repeat_ngram_size=2,top_k=5)\n",
    "\n"
   ]
  }
 ],
 "metadata": {
  "kernelspec": {
   "display_name": "meta-transformer",
   "language": "python",
   "name": "python3"
  },
  "language_info": {
   "codemirror_mode": {
    "name": "ipython",
    "version": 3
   },
   "file_extension": ".py",
   "mimetype": "text/x-python",
   "name": "python",
   "nbconvert_exporter": "python",
   "pygments_lexer": "ipython3",
   "version": "3.11.4"
  },
  "orig_nbformat": 4
 },
 "nbformat": 4,
 "nbformat_minor": 2
}
